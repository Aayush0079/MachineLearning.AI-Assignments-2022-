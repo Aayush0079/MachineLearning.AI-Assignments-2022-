{
 "cells": [
  {
   "cell_type": "markdown",
   "metadata": {},
   "source": [
    " ## Welcome To The Week1 Assignment\n",
    " \n",
    "#### In this assignment we will analyze the Titanic dataset with the help of pandas <br>"
   ]
  },
  {
   "cell_type": "markdown",
   "metadata": {},
   "source": [
    "![Titanic](https://akm-img-a-in.tosshub.com/indiatoday/images/story/201506/bil0510_rms-titanic_647_060515043509.jpg?size=1200:675)"
   ]
  },
  {
   "cell_type": "markdown",
   "metadata": {},
   "source": [
    "`Note: You will be asked various question from this assignment in the Google Form, and also you need to submit this notebook. So Kindly maintain this Notebook Properly`"
   ]
  },
  {
   "cell_type": "markdown",
   "metadata": {},
   "source": [
    "### 1) Start this assignment by importing all the important Libraries\n",
    "for eg. import pandas as pd"
   ]
  },
  {
   "cell_type": "code",
   "execution_count": 1,
   "metadata": {},
   "outputs": [],
   "source": [
    "import pandas as pd\n",
    "import numpy as np\n",
    "import matplotlib.pyplot as plt"
   ]
  },
  {
   "cell_type": "markdown",
   "metadata": {},
   "source": [
    "### 2) Read the csv file and assign it to a variable"
   ]
  },
  {
   "cell_type": "markdown",
   "metadata": {},
   "source": [
    "Note: Download the titanic.csv file from the google drive, and place it in the folder same as this notebook"
   ]
  },
  {
   "cell_type": "code",
   "execution_count": 2,
   "metadata": {},
   "outputs": [],
   "source": [
    "df =pd.read_csv(\"tested.csv\")"
   ]
  },
  {
   "cell_type": "markdown",
   "metadata": {},
   "source": [
    "#### Display the first 5 entries of DataFrame\n",
    "Hint: use head() function"
   ]
  },
  {
   "cell_type": "code",
   "execution_count": 3,
   "metadata": {},
   "outputs": [
    {
     "data": {
      "text/html": [
       "<div>\n",
       "<style scoped>\n",
       "    .dataframe tbody tr th:only-of-type {\n",
       "        vertical-align: middle;\n",
       "    }\n",
       "\n",
       "    .dataframe tbody tr th {\n",
       "        vertical-align: top;\n",
       "    }\n",
       "\n",
       "    .dataframe thead th {\n",
       "        text-align: right;\n",
       "    }\n",
       "</style>\n",
       "<table border=\"1\" class=\"dataframe\">\n",
       "  <thead>\n",
       "    <tr style=\"text-align: right;\">\n",
       "      <th></th>\n",
       "      <th>PassengerId</th>\n",
       "      <th>Survived</th>\n",
       "      <th>Pclass</th>\n",
       "      <th>Name</th>\n",
       "      <th>Sex</th>\n",
       "      <th>Age</th>\n",
       "      <th>SibSp</th>\n",
       "      <th>Parch</th>\n",
       "      <th>Ticket</th>\n",
       "      <th>Fare</th>\n",
       "      <th>Cabin</th>\n",
       "      <th>Embarked</th>\n",
       "    </tr>\n",
       "  </thead>\n",
       "  <tbody>\n",
       "    <tr>\n",
       "      <th>0</th>\n",
       "      <td>892</td>\n",
       "      <td>0</td>\n",
       "      <td>3</td>\n",
       "      <td>Kelly, Mr. James</td>\n",
       "      <td>male</td>\n",
       "      <td>34.5</td>\n",
       "      <td>0</td>\n",
       "      <td>0</td>\n",
       "      <td>330911</td>\n",
       "      <td>7.8292</td>\n",
       "      <td>NaN</td>\n",
       "      <td>Q</td>\n",
       "    </tr>\n",
       "    <tr>\n",
       "      <th>1</th>\n",
       "      <td>893</td>\n",
       "      <td>1</td>\n",
       "      <td>3</td>\n",
       "      <td>Wilkes, Mrs. James (Ellen Needs)</td>\n",
       "      <td>female</td>\n",
       "      <td>47.0</td>\n",
       "      <td>1</td>\n",
       "      <td>0</td>\n",
       "      <td>363272</td>\n",
       "      <td>7.0000</td>\n",
       "      <td>NaN</td>\n",
       "      <td>S</td>\n",
       "    </tr>\n",
       "    <tr>\n",
       "      <th>2</th>\n",
       "      <td>894</td>\n",
       "      <td>0</td>\n",
       "      <td>2</td>\n",
       "      <td>Myles, Mr. Thomas Francis</td>\n",
       "      <td>male</td>\n",
       "      <td>62.0</td>\n",
       "      <td>0</td>\n",
       "      <td>0</td>\n",
       "      <td>240276</td>\n",
       "      <td>9.6875</td>\n",
       "      <td>NaN</td>\n",
       "      <td>Q</td>\n",
       "    </tr>\n",
       "    <tr>\n",
       "      <th>3</th>\n",
       "      <td>895</td>\n",
       "      <td>0</td>\n",
       "      <td>3</td>\n",
       "      <td>Wirz, Mr. Albert</td>\n",
       "      <td>male</td>\n",
       "      <td>27.0</td>\n",
       "      <td>0</td>\n",
       "      <td>0</td>\n",
       "      <td>315154</td>\n",
       "      <td>8.6625</td>\n",
       "      <td>NaN</td>\n",
       "      <td>S</td>\n",
       "    </tr>\n",
       "    <tr>\n",
       "      <th>4</th>\n",
       "      <td>896</td>\n",
       "      <td>1</td>\n",
       "      <td>3</td>\n",
       "      <td>Hirvonen, Mrs. Alexander (Helga E Lindqvist)</td>\n",
       "      <td>female</td>\n",
       "      <td>22.0</td>\n",
       "      <td>1</td>\n",
       "      <td>1</td>\n",
       "      <td>3101298</td>\n",
       "      <td>12.2875</td>\n",
       "      <td>NaN</td>\n",
       "      <td>S</td>\n",
       "    </tr>\n",
       "  </tbody>\n",
       "</table>\n",
       "</div>"
      ],
      "text/plain": [
       "   PassengerId  Survived  Pclass  \\\n",
       "0          892         0       3   \n",
       "1          893         1       3   \n",
       "2          894         0       2   \n",
       "3          895         0       3   \n",
       "4          896         1       3   \n",
       "\n",
       "                                           Name     Sex   Age  SibSp  Parch  \\\n",
       "0                              Kelly, Mr. James    male  34.5      0      0   \n",
       "1              Wilkes, Mrs. James (Ellen Needs)  female  47.0      1      0   \n",
       "2                     Myles, Mr. Thomas Francis    male  62.0      0      0   \n",
       "3                              Wirz, Mr. Albert    male  27.0      0      0   \n",
       "4  Hirvonen, Mrs. Alexander (Helga E Lindqvist)  female  22.0      1      1   \n",
       "\n",
       "    Ticket     Fare Cabin Embarked  \n",
       "0   330911   7.8292   NaN        Q  \n",
       "1   363272   7.0000   NaN        S  \n",
       "2   240276   9.6875   NaN        Q  \n",
       "3   315154   8.6625   NaN        S  \n",
       "4  3101298  12.2875   NaN        S  "
      ]
     },
     "execution_count": 3,
     "metadata": {},
     "output_type": "execute_result"
    }
   ],
   "source": [
    "df.head(5)"
   ]
  },
  {
   "cell_type": "markdown",
   "metadata": {},
   "source": [
    "#### Display the last 5 entries of DataFrame\n",
    "Hint: use tail() function"
   ]
  },
  {
   "cell_type": "code",
   "execution_count": 4,
   "metadata": {},
   "outputs": [
    {
     "data": {
      "text/html": [
       "<div>\n",
       "<style scoped>\n",
       "    .dataframe tbody tr th:only-of-type {\n",
       "        vertical-align: middle;\n",
       "    }\n",
       "\n",
       "    .dataframe tbody tr th {\n",
       "        vertical-align: top;\n",
       "    }\n",
       "\n",
       "    .dataframe thead th {\n",
       "        text-align: right;\n",
       "    }\n",
       "</style>\n",
       "<table border=\"1\" class=\"dataframe\">\n",
       "  <thead>\n",
       "    <tr style=\"text-align: right;\">\n",
       "      <th></th>\n",
       "      <th>PassengerId</th>\n",
       "      <th>Survived</th>\n",
       "      <th>Pclass</th>\n",
       "      <th>Name</th>\n",
       "      <th>Sex</th>\n",
       "      <th>Age</th>\n",
       "      <th>SibSp</th>\n",
       "      <th>Parch</th>\n",
       "      <th>Ticket</th>\n",
       "      <th>Fare</th>\n",
       "      <th>Cabin</th>\n",
       "      <th>Embarked</th>\n",
       "    </tr>\n",
       "  </thead>\n",
       "  <tbody>\n",
       "    <tr>\n",
       "      <th>413</th>\n",
       "      <td>1305</td>\n",
       "      <td>0</td>\n",
       "      <td>3</td>\n",
       "      <td>Spector, Mr. Woolf</td>\n",
       "      <td>male</td>\n",
       "      <td>NaN</td>\n",
       "      <td>0</td>\n",
       "      <td>0</td>\n",
       "      <td>A.5. 3236</td>\n",
       "      <td>8.0500</td>\n",
       "      <td>NaN</td>\n",
       "      <td>S</td>\n",
       "    </tr>\n",
       "    <tr>\n",
       "      <th>414</th>\n",
       "      <td>1306</td>\n",
       "      <td>1</td>\n",
       "      <td>1</td>\n",
       "      <td>Oliva y Ocana, Dona. Fermina</td>\n",
       "      <td>female</td>\n",
       "      <td>39.0</td>\n",
       "      <td>0</td>\n",
       "      <td>0</td>\n",
       "      <td>PC 17758</td>\n",
       "      <td>108.9000</td>\n",
       "      <td>C105</td>\n",
       "      <td>C</td>\n",
       "    </tr>\n",
       "    <tr>\n",
       "      <th>415</th>\n",
       "      <td>1307</td>\n",
       "      <td>0</td>\n",
       "      <td>3</td>\n",
       "      <td>Saether, Mr. Simon Sivertsen</td>\n",
       "      <td>male</td>\n",
       "      <td>38.5</td>\n",
       "      <td>0</td>\n",
       "      <td>0</td>\n",
       "      <td>SOTON/O.Q. 3101262</td>\n",
       "      <td>7.2500</td>\n",
       "      <td>NaN</td>\n",
       "      <td>S</td>\n",
       "    </tr>\n",
       "    <tr>\n",
       "      <th>416</th>\n",
       "      <td>1308</td>\n",
       "      <td>0</td>\n",
       "      <td>3</td>\n",
       "      <td>Ware, Mr. Frederick</td>\n",
       "      <td>male</td>\n",
       "      <td>NaN</td>\n",
       "      <td>0</td>\n",
       "      <td>0</td>\n",
       "      <td>359309</td>\n",
       "      <td>8.0500</td>\n",
       "      <td>NaN</td>\n",
       "      <td>S</td>\n",
       "    </tr>\n",
       "    <tr>\n",
       "      <th>417</th>\n",
       "      <td>1309</td>\n",
       "      <td>0</td>\n",
       "      <td>3</td>\n",
       "      <td>Peter, Master. Michael J</td>\n",
       "      <td>male</td>\n",
       "      <td>NaN</td>\n",
       "      <td>1</td>\n",
       "      <td>1</td>\n",
       "      <td>2668</td>\n",
       "      <td>22.3583</td>\n",
       "      <td>NaN</td>\n",
       "      <td>C</td>\n",
       "    </tr>\n",
       "  </tbody>\n",
       "</table>\n",
       "</div>"
      ],
      "text/plain": [
       "     PassengerId  Survived  Pclass                          Name     Sex  \\\n",
       "413         1305         0       3            Spector, Mr. Woolf    male   \n",
       "414         1306         1       1  Oliva y Ocana, Dona. Fermina  female   \n",
       "415         1307         0       3  Saether, Mr. Simon Sivertsen    male   \n",
       "416         1308         0       3           Ware, Mr. Frederick    male   \n",
       "417         1309         0       3      Peter, Master. Michael J    male   \n",
       "\n",
       "      Age  SibSp  Parch              Ticket      Fare Cabin Embarked  \n",
       "413   NaN      0      0           A.5. 3236    8.0500   NaN        S  \n",
       "414  39.0      0      0            PC 17758  108.9000  C105        C  \n",
       "415  38.5      0      0  SOTON/O.Q. 3101262    7.2500   NaN        S  \n",
       "416   NaN      0      0              359309    8.0500   NaN        S  \n",
       "417   NaN      1      1                2668   22.3583   NaN        C  "
      ]
     },
     "execution_count": 4,
     "metadata": {},
     "output_type": "execute_result"
    }
   ],
   "source": [
    "df.tail(5)"
   ]
  },
  {
   "cell_type": "markdown",
   "metadata": {},
   "source": [
    "### 3) Display the shape of the Dataframe"
   ]
  },
  {
   "cell_type": "code",
   "execution_count": 5,
   "metadata": {},
   "outputs": [
    {
     "data": {
      "text/plain": [
       "(418, 12)"
      ]
     },
     "execution_count": 5,
     "metadata": {},
     "output_type": "execute_result"
    }
   ],
   "source": [
    "df.shape"
   ]
  },
  {
   "cell_type": "markdown",
   "metadata": {},
   "source": [
    "### 4) Print all the columns of the Dataframe"
   ]
  },
  {
   "cell_type": "code",
   "execution_count": 6,
   "id": "a5d87c92",
   "metadata": {},
   "outputs": [
    {
     "data": {
      "text/html": [
       "<div>\n",
       "<style scoped>\n",
       "    .dataframe tbody tr th:only-of-type {\n",
       "        vertical-align: middle;\n",
       "    }\n",
       "\n",
       "    .dataframe tbody tr th {\n",
       "        vertical-align: top;\n",
       "    }\n",
       "\n",
       "    .dataframe thead th {\n",
       "        text-align: right;\n",
       "    }\n",
       "</style>\n",
       "<table border=\"1\" class=\"dataframe\">\n",
       "  <thead>\n",
       "    <tr style=\"text-align: right;\">\n",
       "      <th></th>\n",
       "      <th>PassengerId</th>\n",
       "      <th>Survived</th>\n",
       "      <th>Pclass</th>\n",
       "      <th>Name</th>\n",
       "      <th>Sex</th>\n",
       "      <th>Age</th>\n",
       "      <th>SibSp</th>\n",
       "      <th>Parch</th>\n",
       "      <th>Ticket</th>\n",
       "      <th>Fare</th>\n",
       "      <th>Cabin</th>\n",
       "      <th>Embarked</th>\n",
       "    </tr>\n",
       "  </thead>\n",
       "  <tbody>\n",
       "    <tr>\n",
       "      <th>0</th>\n",
       "      <td>892</td>\n",
       "      <td>0</td>\n",
       "      <td>3</td>\n",
       "      <td>Kelly, Mr. James</td>\n",
       "      <td>male</td>\n",
       "      <td>34.5</td>\n",
       "      <td>0</td>\n",
       "      <td>0</td>\n",
       "      <td>330911</td>\n",
       "      <td>7.8292</td>\n",
       "      <td>NaN</td>\n",
       "      <td>Q</td>\n",
       "    </tr>\n",
       "    <tr>\n",
       "      <th>1</th>\n",
       "      <td>893</td>\n",
       "      <td>1</td>\n",
       "      <td>3</td>\n",
       "      <td>Wilkes, Mrs. James (Ellen Needs)</td>\n",
       "      <td>female</td>\n",
       "      <td>47.0</td>\n",
       "      <td>1</td>\n",
       "      <td>0</td>\n",
       "      <td>363272</td>\n",
       "      <td>7.0000</td>\n",
       "      <td>NaN</td>\n",
       "      <td>S</td>\n",
       "    </tr>\n",
       "    <tr>\n",
       "      <th>2</th>\n",
       "      <td>894</td>\n",
       "      <td>0</td>\n",
       "      <td>2</td>\n",
       "      <td>Myles, Mr. Thomas Francis</td>\n",
       "      <td>male</td>\n",
       "      <td>62.0</td>\n",
       "      <td>0</td>\n",
       "      <td>0</td>\n",
       "      <td>240276</td>\n",
       "      <td>9.6875</td>\n",
       "      <td>NaN</td>\n",
       "      <td>Q</td>\n",
       "    </tr>\n",
       "    <tr>\n",
       "      <th>3</th>\n",
       "      <td>895</td>\n",
       "      <td>0</td>\n",
       "      <td>3</td>\n",
       "      <td>Wirz, Mr. Albert</td>\n",
       "      <td>male</td>\n",
       "      <td>27.0</td>\n",
       "      <td>0</td>\n",
       "      <td>0</td>\n",
       "      <td>315154</td>\n",
       "      <td>8.6625</td>\n",
       "      <td>NaN</td>\n",
       "      <td>S</td>\n",
       "    </tr>\n",
       "    <tr>\n",
       "      <th>4</th>\n",
       "      <td>896</td>\n",
       "      <td>1</td>\n",
       "      <td>3</td>\n",
       "      <td>Hirvonen, Mrs. Alexander (Helga E Lindqvist)</td>\n",
       "      <td>female</td>\n",
       "      <td>22.0</td>\n",
       "      <td>1</td>\n",
       "      <td>1</td>\n",
       "      <td>3101298</td>\n",
       "      <td>12.2875</td>\n",
       "      <td>NaN</td>\n",
       "      <td>S</td>\n",
       "    </tr>\n",
       "    <tr>\n",
       "      <th>...</th>\n",
       "      <td>...</td>\n",
       "      <td>...</td>\n",
       "      <td>...</td>\n",
       "      <td>...</td>\n",
       "      <td>...</td>\n",
       "      <td>...</td>\n",
       "      <td>...</td>\n",
       "      <td>...</td>\n",
       "      <td>...</td>\n",
       "      <td>...</td>\n",
       "      <td>...</td>\n",
       "      <td>...</td>\n",
       "    </tr>\n",
       "    <tr>\n",
       "      <th>413</th>\n",
       "      <td>1305</td>\n",
       "      <td>0</td>\n",
       "      <td>3</td>\n",
       "      <td>Spector, Mr. Woolf</td>\n",
       "      <td>male</td>\n",
       "      <td>NaN</td>\n",
       "      <td>0</td>\n",
       "      <td>0</td>\n",
       "      <td>A.5. 3236</td>\n",
       "      <td>8.0500</td>\n",
       "      <td>NaN</td>\n",
       "      <td>S</td>\n",
       "    </tr>\n",
       "    <tr>\n",
       "      <th>414</th>\n",
       "      <td>1306</td>\n",
       "      <td>1</td>\n",
       "      <td>1</td>\n",
       "      <td>Oliva y Ocana, Dona. Fermina</td>\n",
       "      <td>female</td>\n",
       "      <td>39.0</td>\n",
       "      <td>0</td>\n",
       "      <td>0</td>\n",
       "      <td>PC 17758</td>\n",
       "      <td>108.9000</td>\n",
       "      <td>C105</td>\n",
       "      <td>C</td>\n",
       "    </tr>\n",
       "    <tr>\n",
       "      <th>415</th>\n",
       "      <td>1307</td>\n",
       "      <td>0</td>\n",
       "      <td>3</td>\n",
       "      <td>Saether, Mr. Simon Sivertsen</td>\n",
       "      <td>male</td>\n",
       "      <td>38.5</td>\n",
       "      <td>0</td>\n",
       "      <td>0</td>\n",
       "      <td>SOTON/O.Q. 3101262</td>\n",
       "      <td>7.2500</td>\n",
       "      <td>NaN</td>\n",
       "      <td>S</td>\n",
       "    </tr>\n",
       "    <tr>\n",
       "      <th>416</th>\n",
       "      <td>1308</td>\n",
       "      <td>0</td>\n",
       "      <td>3</td>\n",
       "      <td>Ware, Mr. Frederick</td>\n",
       "      <td>male</td>\n",
       "      <td>NaN</td>\n",
       "      <td>0</td>\n",
       "      <td>0</td>\n",
       "      <td>359309</td>\n",
       "      <td>8.0500</td>\n",
       "      <td>NaN</td>\n",
       "      <td>S</td>\n",
       "    </tr>\n",
       "    <tr>\n",
       "      <th>417</th>\n",
       "      <td>1309</td>\n",
       "      <td>0</td>\n",
       "      <td>3</td>\n",
       "      <td>Peter, Master. Michael J</td>\n",
       "      <td>male</td>\n",
       "      <td>NaN</td>\n",
       "      <td>1</td>\n",
       "      <td>1</td>\n",
       "      <td>2668</td>\n",
       "      <td>22.3583</td>\n",
       "      <td>NaN</td>\n",
       "      <td>C</td>\n",
       "    </tr>\n",
       "  </tbody>\n",
       "</table>\n",
       "<p>418 rows × 12 columns</p>\n",
       "</div>"
      ],
      "text/plain": [
       "     PassengerId  Survived  Pclass  \\\n",
       "0            892         0       3   \n",
       "1            893         1       3   \n",
       "2            894         0       2   \n",
       "3            895         0       3   \n",
       "4            896         1       3   \n",
       "..           ...       ...     ...   \n",
       "413         1305         0       3   \n",
       "414         1306         1       1   \n",
       "415         1307         0       3   \n",
       "416         1308         0       3   \n",
       "417         1309         0       3   \n",
       "\n",
       "                                             Name     Sex   Age  SibSp  Parch  \\\n",
       "0                                Kelly, Mr. James    male  34.5      0      0   \n",
       "1                Wilkes, Mrs. James (Ellen Needs)  female  47.0      1      0   \n",
       "2                       Myles, Mr. Thomas Francis    male  62.0      0      0   \n",
       "3                                Wirz, Mr. Albert    male  27.0      0      0   \n",
       "4    Hirvonen, Mrs. Alexander (Helga E Lindqvist)  female  22.0      1      1   \n",
       "..                                            ...     ...   ...    ...    ...   \n",
       "413                            Spector, Mr. Woolf    male   NaN      0      0   \n",
       "414                  Oliva y Ocana, Dona. Fermina  female  39.0      0      0   \n",
       "415                  Saether, Mr. Simon Sivertsen    male  38.5      0      0   \n",
       "416                           Ware, Mr. Frederick    male   NaN      0      0   \n",
       "417                      Peter, Master. Michael J    male   NaN      1      1   \n",
       "\n",
       "                 Ticket      Fare Cabin Embarked  \n",
       "0                330911    7.8292   NaN        Q  \n",
       "1                363272    7.0000   NaN        S  \n",
       "2                240276    9.6875   NaN        Q  \n",
       "3                315154    8.6625   NaN        S  \n",
       "4               3101298   12.2875   NaN        S  \n",
       "..                  ...       ...   ...      ...  \n",
       "413           A.5. 3236    8.0500   NaN        S  \n",
       "414            PC 17758  108.9000  C105        C  \n",
       "415  SOTON/O.Q. 3101262    7.2500   NaN        S  \n",
       "416              359309    8.0500   NaN        S  \n",
       "417                2668   22.3583   NaN        C  \n",
       "\n",
       "[418 rows x 12 columns]"
      ]
     },
     "execution_count": 6,
     "metadata": {},
     "output_type": "execute_result"
    }
   ],
   "source": [
    "df"
   ]
  },
  {
   "cell_type": "code",
   "execution_count": 7,
   "metadata": {},
   "outputs": [
    {
     "data": {
      "text/plain": [
       "Index(['PassengerId', 'Survived', 'Pclass', 'Name', 'Sex', 'Age', 'SibSp',\n",
       "       'Parch', 'Ticket', 'Fare', 'Cabin', 'Embarked'],\n",
       "      dtype='object')"
      ]
     },
     "execution_count": 7,
     "metadata": {},
     "output_type": "execute_result"
    }
   ],
   "source": [
    "df.columns"
   ]
  },
  {
   "cell_type": "markdown",
   "metadata": {},
   "source": [
    "About Data:<br>\n",
    "__PassangerId__: Passanger Number<br>\n",
    "__Survived__: Dead(0), Alive(1)<br>\n",
    "__PClass__: Class in which the passenger is travelling<br>\n",
    "__Name__: Name of the Passenger<br>\n",
    "__Sex__: Male,Female<br>\n",
    "__Age__: Age of the passenger<br>\n",
    "__SibSp__: Number of siblings<br>\n",
    "__Parch__: # of siblings / spouses aboard the Titanic<br>\n",
    "__Ticket__: Ticket number<br>\n",
    "__Fare__: Passenger Fare<br>\n",
    "__Cabin__: Cabin number<br>\n",
    "__Embarked__: Port of Embarkation (C = Cherbourg, Q = Queenstown, S = Southampton)<br>"
   ]
  },
  {
   "cell_type": "markdown",
   "metadata": {},
   "source": [
    "### 5) Print the unique values in each column"
   ]
  },
  {
   "cell_type": "code",
   "execution_count": 8,
   "id": "6a4b7709",
   "metadata": {},
   "outputs": [
    {
     "data": {
      "text/plain": [
       "array(['Q', 'S', 'C'], dtype=object)"
      ]
     },
     "execution_count": 8,
     "metadata": {},
     "output_type": "execute_result"
    }
   ],
   "source": [
    "df['Embarked'].unique()"
   ]
  },
  {
   "cell_type": "code",
   "execution_count": 9,
   "id": "98bf2abc",
   "metadata": {},
   "outputs": [
    {
     "data": {
      "text/plain": [
       "array([nan, 'B45', 'E31', 'B57 B59 B63 B66', 'B36', 'A21', 'C78', 'D34',\n",
       "       'D19', 'A9', 'D15', 'C31', 'C23 C25 C27', 'F G63', 'B61', 'C53',\n",
       "       'D43', 'C130', 'C132', 'C101', 'C55 C57', 'B71', 'C46', 'C116',\n",
       "       'F', 'A29', 'G6', 'C6', 'C28', 'C51', 'E46', 'C54', 'C97', 'D22',\n",
       "       'B10', 'F4', 'E45', 'E52', 'D30', 'B58 B60', 'E34', 'C62 C64',\n",
       "       'A11', 'B11', 'C80', 'F33', 'C85', 'D37', 'C86', 'D21', 'C89',\n",
       "       'F E46', 'A34', 'D', 'B26', 'C22 C26', 'B69', 'C32', 'B78',\n",
       "       'F E57', 'F2', 'A18', 'C106', 'B51 B53 B55', 'D10 D12', 'E60',\n",
       "       'E50', 'E39 E41', 'B52 B54 B56', 'C39', 'B24', 'D28', 'B41', 'C7',\n",
       "       'D40', 'D38', 'C105'], dtype=object)"
      ]
     },
     "execution_count": 9,
     "metadata": {},
     "output_type": "execute_result"
    }
   ],
   "source": [
    "df['Cabin'].unique()"
   ]
  },
  {
   "cell_type": "code",
   "execution_count": 10,
   "id": "2d963038",
   "metadata": {},
   "outputs": [
    {
     "data": {
      "text/plain": [
       "array([  7.8292,   7.    ,   9.6875,   8.6625,  12.2875,   9.225 ,\n",
       "         7.6292,  29.    ,   7.2292,  24.15  ,   7.8958,  26.    ,\n",
       "        82.2667,  61.175 ,  27.7208,  12.35  ,   7.225 ,   7.925 ,\n",
       "        59.4   ,   3.1708,  31.6833,  61.3792, 262.375 ,  14.5   ,\n",
       "        61.9792,  30.5   ,  21.6792,  31.5   ,  20.575 ,  23.45  ,\n",
       "        57.75  ,   8.05  ,   9.5   ,  56.4958,  13.4167,  26.55  ,\n",
       "         7.85  ,  13.    ,  52.5542,  29.7   ,   7.75  ,  76.2917,\n",
       "        15.9   ,  60.    ,  15.0333,  23.    , 263.    ,  15.5792,\n",
       "        29.125 ,   7.65  ,  16.1   ,  13.5   ,   7.725 ,  21.    ,\n",
       "         7.8792,  42.4   ,  28.5375, 211.5   ,  25.7   ,  15.2458,\n",
       "       221.7792,  10.7083,  14.4542,  13.9   ,   7.775 ,  52.    ,\n",
       "         7.7958,  78.85  ,   7.8542,  55.4417,   8.5167,  22.525 ,\n",
       "         7.8208,   8.7125,  15.0458,   7.7792,  31.6792,   7.2833,\n",
       "         6.4375,  16.7   ,  75.2417,  15.75  ,   7.25  ,  23.25  ,\n",
       "        28.5   ,  25.4667,  46.9   , 151.55  ,  18.    ,  51.8625,\n",
       "        83.1583,      nan,  12.1833,  31.3875,   7.55  ,  13.775 ,\n",
       "         7.7333,  22.025 ,  50.4958,  34.375 ,   8.9625,  39.    ,\n",
       "        36.75  ,  53.1   , 247.5208,  16.    ,  69.55  ,  32.5   ,\n",
       "       134.5   ,  10.5   ,   8.1125,  15.5   ,  14.4   , 227.525 ,\n",
       "        25.7417,   7.05  ,  73.5   ,  42.5   , 164.8667,  13.8583,\n",
       "        27.4458,  15.1   ,  65.    ,   6.4958,  71.2833,  75.25  ,\n",
       "       106.425 ,  30.    ,   7.8875,  27.75  , 136.7792,   9.325 ,\n",
       "        17.4   ,  12.7375,   0.    ,  20.2125,  39.6   ,   6.95  ,\n",
       "        81.8583,  41.5792,  45.5   ,   9.35  ,  93.5   ,  14.1083,\n",
       "         7.575 , 135.6333, 146.5208, 211.3375,  79.2   ,  15.7417,\n",
       "         7.5792, 512.3292,  63.3583,  51.4792,  15.55  ,  37.0042,\n",
       "        14.4583,  39.6875,  11.5   ,  50.    ,  12.875 ,  21.075 ,\n",
       "        39.4   ,  20.25  ,  47.1   ,  13.8625,   7.7208,  90.    ,\n",
       "       108.9   ,  22.3583])"
      ]
     },
     "execution_count": 10,
     "metadata": {},
     "output_type": "execute_result"
    }
   ],
   "source": [
    "df['Fare'].unique()"
   ]
  },
  {
   "cell_type": "code",
   "execution_count": 11,
   "id": "9561abf3",
   "metadata": {},
   "outputs": [
    {
     "data": {
      "text/plain": [
       "array(['330911', '363272', '240276', '315154', '3101298', '7538',\n",
       "       '330972', '248738', '2657', 'A/4 48871', '349220', '694', '21228',\n",
       "       '24065', 'W.E.P. 5734', 'SC/PARIS 2167', '233734', '2692',\n",
       "       'STON/O2. 3101270', '2696', 'PC 17603', 'C 17368', 'PC 17598',\n",
       "       'PC 17597', 'PC 17608', 'A/5. 3337', '113509', '2698', '113054',\n",
       "       '2662', 'SC/AH 3085', 'C.A. 31029', 'C.A. 2315', 'W./C. 6607',\n",
       "       '13236', '2682', '342712', '315087', '345768', '1601', '349256',\n",
       "       '113778', 'SOTON/O.Q. 3101263', '237249', '11753',\n",
       "       'STON/O 2. 3101291', 'PC 17594', '370374', '11813', 'C.A. 37671',\n",
       "       '13695', 'SC/PARIS 2168', '29105', '19950', 'SC/A.3 2861',\n",
       "       '382652', '349230', '348122', '386525', '349232', '237216',\n",
       "       '347090', '334914', 'F.C.C. 13534', '330963', '113796', '2543',\n",
       "       '382653', '349211', '3101297', 'PC 17562', '113503', '359306',\n",
       "       '11770', '248744', '368702', '2678', 'PC 17483', '19924', '349238',\n",
       "       '240261', '2660', '330844', 'A/4 31416', '364856', '29103',\n",
       "       '347072', '345498', 'F.C. 12750', '376563', '13905', '350033',\n",
       "       '19877', 'STON/O 2. 3101268', '347471', 'A./5. 3338', '11778',\n",
       "       '228414', '365235', '347070', '2625', 'C 4001', '330920', '383162',\n",
       "       '3410', '248734', '237734', '330968', 'PC 17531', '329944', '2680',\n",
       "       '2681', 'PP 9549', '13050', 'SC/AH 29037', 'C.A. 33595', '367227',\n",
       "       '392095', '368783', '371362', '350045', '367226', '211535',\n",
       "       '342441', 'STON/OQ. 369943', '113780', '4133', '2621', '349226',\n",
       "       '350409', '2656', '248659', 'SOTON/OQ 392083', 'CA 2144', '113781',\n",
       "       '244358', '17475', '345763', '17463', 'SC/A4 23568', '113791',\n",
       "       '250651', '11767', '349255', '3701', '350405', '347077',\n",
       "       'S.O./P.P. 752', '347469', '110489', 'SOTON/O.Q. 3101315',\n",
       "       '335432', '2650', '220844', '343271', '237393', '315153',\n",
       "       'PC 17591', 'W./C. 6608', '17770', '7548', 'S.O./P.P. 251', '2670',\n",
       "       '2673', '29750', 'C.A. 33112', '230136', 'PC 17756', '233478',\n",
       "       '113773', '7935', 'PC 17558', '239059', 'S.O./P.P. 2', 'A/4 48873',\n",
       "       'CA. 2343', '28221', '226875', '111163', 'A/5. 851', '235509',\n",
       "       '28220', '347465', '16966', '347066', 'C.A. 31030', '65305',\n",
       "       '36568', '347080', 'PC 17757', '26360', 'C.A. 34050', 'F.C. 12998',\n",
       "       '9232', '28034', 'PC 17613', '349250', 'SOTON/O.Q. 3101308',\n",
       "       'S.O.C. 14879', '347091', '113038', '330924', '36928', '32302',\n",
       "       'SC/PARIS 2148', '342684', 'W./C. 14266', '350053', 'PC 17606',\n",
       "       '2661', '350054', '370368', 'C.A. 6212', '242963', '220845',\n",
       "       '113795', '3101266', '330971', 'PC 17599', '350416', '110813',\n",
       "       '2679', '250650', 'PC 17761', '112377', '237789', '3470', '17464',\n",
       "       '26707', 'C.A. 34651', 'SOTON/O2 3101284', '13508', '7266',\n",
       "       '345775', 'C.A. 42795', 'AQ/4 3130', '363611', '28404', '345501',\n",
       "       '345572', '350410', 'C.A. 34644', '349235', '112051', 'C.A. 49867',\n",
       "       'A. 2. 39186', '315095', '368573', '370371', '2676', '236853',\n",
       "       'SC 14888', '2926', 'CA 31352', 'W./C. 14260', '315085', '364859',\n",
       "       '370129', 'A/5 21175', 'SOTON/O.Q. 3101314', '2655', 'A/5 1478',\n",
       "       'PC 17607', '382650', '2652', '33638', '345771', '349202',\n",
       "       'SC/Paris 2123', '113801', '347467', '347079', '237735', '315092',\n",
       "       '383123', '112901', '392091', '12749', '350026', '315091', '2658',\n",
       "       'LP 1588', '368364', 'PC 17760', 'AQ/3. 30631', 'PC 17569',\n",
       "       '28004', '350408', '347075', '2654', '244368', '113790', '24160',\n",
       "       'SOTON/O.Q. 3101309', 'PC 17585', '2003', '236854', 'PC 17580',\n",
       "       '2684', '2653', '349229', '110469', '244360', '2675', '2622',\n",
       "       'C.A. 15185', '350403', 'PC 17755', '348125', '237670', '2688',\n",
       "       '248726', 'F.C.C. 13528', 'PC 17759', 'F.C.C. 13540', '113044',\n",
       "       '11769', '1222', '368402', '349910', 'S.C./PARIS 2079', '315083',\n",
       "       '11765', '2689', '3101295', '112378', 'SC/PARIS 2147', '28133',\n",
       "       '112058', '248746', '315152', '29107', '680', '366713', '330910',\n",
       "       '364498', '376566', 'SC/PARIS 2159', '349911', '244346', '364858',\n",
       "       '349909', 'PC 17592', 'C.A. 2673', 'C.A. 30769', '371109', '13567',\n",
       "       '347065', '21332', '28664', '113059', '17765', 'SC/PARIS 2166',\n",
       "       '28666', '334915', '365237', '19928', '347086', 'A.5. 3236',\n",
       "       'PC 17758', 'SOTON/O.Q. 3101262', '359309', '2668'], dtype=object)"
      ]
     },
     "execution_count": 11,
     "metadata": {},
     "output_type": "execute_result"
    }
   ],
   "source": [
    "df['Ticket'].unique()"
   ]
  },
  {
   "cell_type": "code",
   "execution_count": 12,
   "id": "f8691607",
   "metadata": {},
   "outputs": [
    {
     "data": {
      "text/plain": [
       "array([0, 1, 3, 2, 4, 6, 5, 9], dtype=int64)"
      ]
     },
     "execution_count": 12,
     "metadata": {},
     "output_type": "execute_result"
    }
   ],
   "source": [
    "df['Parch'].unique()"
   ]
  },
  {
   "cell_type": "code",
   "execution_count": 13,
   "id": "a258c46a",
   "metadata": {},
   "outputs": [
    {
     "data": {
      "text/plain": [
       "array([0, 1, 2, 3, 4, 5, 8], dtype=int64)"
      ]
     },
     "execution_count": 13,
     "metadata": {},
     "output_type": "execute_result"
    }
   ],
   "source": [
    "df['SibSp'].unique()"
   ]
  },
  {
   "cell_type": "code",
   "execution_count": 14,
   "id": "907a4b06",
   "metadata": {},
   "outputs": [
    {
     "data": {
      "text/plain": [
       "array([34.5 , 47.  , 62.  , 27.  , 22.  , 14.  , 30.  , 26.  , 18.  ,\n",
       "       21.  ,   nan, 46.  , 23.  , 63.  , 24.  , 35.  , 45.  , 55.  ,\n",
       "        9.  , 48.  , 50.  , 22.5 , 41.  , 33.  , 18.5 , 25.  , 39.  ,\n",
       "       60.  , 36.  , 20.  , 28.  , 10.  , 17.  , 32.  , 13.  , 31.  ,\n",
       "       29.  , 28.5 , 32.5 ,  6.  , 67.  , 49.  ,  2.  , 76.  , 43.  ,\n",
       "       16.  ,  1.  , 12.  , 42.  , 53.  , 26.5 , 40.  , 61.  , 60.5 ,\n",
       "        7.  , 15.  , 54.  , 64.  , 37.  , 34.  , 11.5 ,  8.  ,  0.33,\n",
       "       38.  , 57.  , 40.5 ,  0.92, 19.  , 36.5 ,  0.75,  0.83, 58.  ,\n",
       "        0.17, 59.  , 14.5 , 44.  ,  5.  , 51.  ,  3.  , 38.5 ])"
      ]
     },
     "execution_count": 14,
     "metadata": {},
     "output_type": "execute_result"
    }
   ],
   "source": [
    "df['Age'].unique()"
   ]
  },
  {
   "cell_type": "code",
   "execution_count": 15,
   "id": "7cf5819d",
   "metadata": {},
   "outputs": [
    {
     "data": {
      "text/plain": [
       "array(['male', 'female'], dtype=object)"
      ]
     },
     "execution_count": 15,
     "metadata": {},
     "output_type": "execute_result"
    }
   ],
   "source": [
    "df['Sex'].unique()"
   ]
  },
  {
   "cell_type": "code",
   "execution_count": 16,
   "id": "09a67fb1",
   "metadata": {},
   "outputs": [
    {
     "data": {
      "text/plain": [
       "array(['Kelly, Mr. James', 'Wilkes, Mrs. James (Ellen Needs)',\n",
       "       'Myles, Mr. Thomas Francis', 'Wirz, Mr. Albert',\n",
       "       'Hirvonen, Mrs. Alexander (Helga E Lindqvist)',\n",
       "       'Svensson, Mr. Johan Cervin', 'Connolly, Miss. Kate',\n",
       "       'Caldwell, Mr. Albert Francis',\n",
       "       'Abrahim, Mrs. Joseph (Sophie Halaut Easu)',\n",
       "       'Davies, Mr. John Samuel', 'Ilieff, Mr. Ylio',\n",
       "       'Jones, Mr. Charles Cresson',\n",
       "       'Snyder, Mrs. John Pillsbury (Nelle Stevenson)',\n",
       "       'Howard, Mr. Benjamin',\n",
       "       'Chaffee, Mrs. Herbert Fuller (Carrie Constance Toogood)',\n",
       "       'del Carlo, Mrs. Sebastiano (Argenia Genovesi)',\n",
       "       'Keane, Mr. Daniel', 'Assaf, Mr. Gerios',\n",
       "       'Ilmakangas, Miss. Ida Livija',\n",
       "       'Assaf Khalil, Mrs. Mariana (Miriam\")\"', 'Rothschild, Mr. Martin',\n",
       "       'Olsen, Master. Artur Karl',\n",
       "       'Flegenheim, Mrs. Alfred (Antoinette)',\n",
       "       'Williams, Mr. Richard Norris II',\n",
       "       'Ryerson, Mrs. Arthur Larned (Emily Maria Borie)',\n",
       "       'Robins, Mr. Alexander A', 'Ostby, Miss. Helene Ragnhild',\n",
       "       'Daher, Mr. Shedid', 'Brady, Mr. John Bertram',\n",
       "       'Samaan, Mr. Elias', 'Louch, Mr. Charles Alexander',\n",
       "       'Jefferys, Mr. Clifford Thomas',\n",
       "       'Dean, Mrs. Bertram (Eva Georgetta Light)',\n",
       "       'Johnston, Mrs. Andrew G (Elizabeth Lily\" Watson)\"',\n",
       "       'Mock, Mr. Philipp Edmund',\n",
       "       'Katavelas, Mr. Vassilios (Catavelas Vassilios\")\"',\n",
       "       'Roth, Miss. Sarah A', 'Cacic, Miss. Manda', 'Sap, Mr. Julius',\n",
       "       'Hee, Mr. Ling', 'Karun, Mr. Franz', 'Franklin, Mr. Thomas Parham',\n",
       "       'Goldsmith, Mr. Nathan', 'Corbett, Mrs. Walter H (Irene Colvin)',\n",
       "       'Kimball, Mrs. Edwin Nelson Jr (Gertrude Parsons)',\n",
       "       'Peltomaki, Mr. Nikolai Johannes', 'Chevre, Mr. Paul Romaine',\n",
       "       'Shaughnessy, Mr. Patrick',\n",
       "       'Bucknell, Mrs. William Robert (Emma Eliza Ward)',\n",
       "       'Coutts, Mrs. William (Winnie Minnie\" Treanor)\"',\n",
       "       'Smith, Mr. Lucien Philip', 'Pulbaum, Mr. Franz',\n",
       "       'Hocking, Miss. Ellen Nellie\"\"', 'Fortune, Miss. Ethel Flora',\n",
       "       'Mangiavacchi, Mr. Serafino Emilio', 'Rice, Master. Albert',\n",
       "       'Cor, Mr. Bartol', 'Abelseth, Mr. Olaus Jorgensen',\n",
       "       'Davison, Mr. Thomas Henry', 'Chaudanson, Miss. Victorine',\n",
       "       'Dika, Mr. Mirko', 'McCrae, Mr. Arthur Gordon',\n",
       "       'Bjorklund, Mr. Ernst Herbert', 'Bradley, Miss. Bridget Delia',\n",
       "       'Ryerson, Master. John Borie',\n",
       "       'Corey, Mrs. Percy C (Mary Phyllis Elizabeth Miller)',\n",
       "       'Burns, Miss. Mary Delia', 'Moore, Mr. Clarence Bloomfield',\n",
       "       'Tucker, Mr. Gilbert Milligan Jr',\n",
       "       'Fortune, Mrs. Mark (Mary McDougald)', 'Mulvihill, Miss. Bertha E',\n",
       "       'Minkoff, Mr. Lazar', 'Nieminen, Miss. Manta Josefina',\n",
       "       'Ovies y Rodriguez, Mr. Servando', 'Geiger, Miss. Amalie',\n",
       "       'Keeping, Mr. Edwin', 'Miles, Mr. Frank',\n",
       "       'Cornell, Mrs. Robert Clifford (Malvina Helen Lamson)',\n",
       "       'Aldworth, Mr. Charles Augustus', 'Doyle, Miss. Elizabeth',\n",
       "       'Boulos, Master. Akar', 'Straus, Mr. Isidor',\n",
       "       'Case, Mr. Howard Brown', 'Demetri, Mr. Marinko',\n",
       "       'Lamb, Mr. John Joseph', 'Khalil, Mr. Betros',\n",
       "       'Barry, Miss. Julia', 'Badman, Miss. Emily Louisa',\n",
       "       \"O'Donoghue, Ms. Bridget\", 'Wells, Master. Ralph Lester',\n",
       "       'Dyker, Mrs. Adolf Fredrik (Anna Elisabeth Judith Andersson)',\n",
       "       'Pedersen, Mr. Olaf', 'Davidson, Mrs. Thornton (Orian Hays)',\n",
       "       'Guest, Mr. Robert', 'Birnbaum, Mr. Jakob',\n",
       "       'Tenglin, Mr. Gunnar Isidor',\n",
       "       'Cavendish, Mrs. Tyrell William (Julia Florence Siegel)',\n",
       "       'Makinen, Mr. Kalle Edvard', 'Braf, Miss. Elin Ester Maria',\n",
       "       'Nancarrow, Mr. William Henry',\n",
       "       'Stengel, Mrs. Charles Emil Henry (Annie May Morris)',\n",
       "       'Weisz, Mr. Leopold', 'Foley, Mr. William',\n",
       "       'Johansson Palmquist, Mr. Oskar Leander',\n",
       "       'Thomas, Mrs. Alexander (Thamine Thelma\")\"',\n",
       "       'Holthen, Mr. Johan Martin', 'Buckley, Mr. Daniel',\n",
       "       'Ryan, Mr. Edward', 'Willer, Mr. Aaron (Abi Weller\")\"',\n",
       "       'Swane, Mr. George', 'Stanton, Mr. Samuel Ward',\n",
       "       'Shine, Miss. Ellen Natalia', 'Evans, Miss. Edith Corse',\n",
       "       'Buckley, Miss. Katherine',\n",
       "       'Straus, Mrs. Isidor (Rosalie Ida Blun)',\n",
       "       'Chronopoulos, Mr. Demetrios', 'Thomas, Mr. John',\n",
       "       'Sandstrom, Miss. Beatrice Irene', 'Beattie, Mr. Thomson',\n",
       "       'Chapman, Mrs. John Henry (Sara Elizabeth Lawry)',\n",
       "       'Watt, Miss. Bertha J', 'Kiernan, Mr. John',\n",
       "       'Schabert, Mrs. Paul (Emma Mock)', 'Carver, Mr. Alfred John',\n",
       "       'Kennedy, Mr. John', 'Cribb, Miss. Laura Alice',\n",
       "       'Brobeck, Mr. Karl Rudolf', 'McCoy, Miss. Alicia',\n",
       "       'Bowenur, Mr. Solomon', 'Petersen, Mr. Marius',\n",
       "       'Spinner, Mr. Henry John', 'Gracie, Col. Archibald IV',\n",
       "       'Lefebre, Mrs. Frank (Frances)', 'Thomas, Mr. Charles P',\n",
       "       'Dintcheff, Mr. Valtcho', 'Carlsson, Mr. Carl Robert',\n",
       "       'Zakarian, Mr. Mapriededer', 'Schmidt, Mr. August',\n",
       "       'Drapkin, Miss. Jennie', 'Goodwin, Mr. Charles Frederick',\n",
       "       'Goodwin, Miss. Jessie Allis', 'Daniels, Miss. Sarah',\n",
       "       'Ryerson, Mr. Arthur Larned', 'Beauchamp, Mr. Henry James',\n",
       "       'Lindeberg-Lind, Mr. Erik Gustaf (Mr Edward Lingrey\")\"',\n",
       "       'Vander Planke, Mr. Julius', 'Hilliard, Mr. Herbert Henry',\n",
       "       'Davies, Mr. Evan', 'Crafton, Mr. John Bertram',\n",
       "       'Lahtinen, Rev. William', 'Earnshaw, Mrs. Boulton (Olive Potter)',\n",
       "       'Matinoff, Mr. Nicola', 'Storey, Mr. Thomas',\n",
       "       'Klasen, Mrs. (Hulda Kristina Eugenia Lofqvist)',\n",
       "       'Asplund, Master. Filip Oscar', 'Duquemin, Mr. Joseph',\n",
       "       'Bird, Miss. Ellen', 'Lundin, Miss. Olga Elida',\n",
       "       'Borebank, Mr. John James', 'Peacock, Mrs. Benjamin (Edith Nile)',\n",
       "       'Smyth, Miss. Julia', 'Touma, Master. Georges Youssef',\n",
       "       'Wright, Miss. Marion', 'Pearce, Mr. Ernest',\n",
       "       'Peruschitz, Rev. Joseph Maria',\n",
       "       'Kink-Heilmann, Mrs. Anton (Luise Heilmann)', 'Brandeis, Mr. Emil',\n",
       "       'Ford, Mr. Edward Watson',\n",
       "       'Cassebeer, Mrs. Henry Arthur Jr (Eleanor Genevieve Fosdick)',\n",
       "       'Hellstrom, Miss. Hilda Maria', 'Lithman, Mr. Simon',\n",
       "       'Zakarian, Mr. Ortin', 'Dyker, Mr. Adolf Fredrik',\n",
       "       'Torfa, Mr. Assad', 'Asplund, Mr. Carl Oscar Vilhelm Gustafsson',\n",
       "       'Brown, Miss. Edith Eileen', 'Sincock, Miss. Maude',\n",
       "       'Stengel, Mr. Charles Emil Henry',\n",
       "       'Becker, Mrs. Allen Oliver (Nellie E Baumgardner)',\n",
       "       'Compton, Mrs. Alexander Taylor (Mary Eliza Ingersoll)',\n",
       "       'McCrie, Mr. James Matthew', 'Compton, Mr. Alexander Taylor Jr',\n",
       "       'Marvin, Mrs. Daniel Warner (Mary Graham Carmichael Farquarson)',\n",
       "       'Lane, Mr. Patrick',\n",
       "       'Douglas, Mrs. Frederick Charles (Mary Helene Baxter)',\n",
       "       'Maybery, Mr. Frank Hubert',\n",
       "       'Phillips, Miss. Alice Frances Louisa', 'Davies, Mr. Joseph',\n",
       "       'Sage, Miss. Ada', 'Veal, Mr. James', 'Angle, Mr. William A',\n",
       "       'Salomon, Mr. Abraham L', 'van Billiard, Master. Walter John',\n",
       "       'Lingane, Mr. John', 'Drew, Master. Marshall Brines',\n",
       "       'Karlsson, Mr. Julius Konrad Eugen',\n",
       "       'Spedden, Master. Robert Douglas', 'Nilsson, Miss. Berta Olivia',\n",
       "       'Baimbrigge, Mr. Charles Robert',\n",
       "       'Rasmussen, Mrs. (Lena Jacobsen Solvang)', 'Murphy, Miss. Nora',\n",
       "       'Danbom, Master. Gilbert Sigvard Emanuel',\n",
       "       'Astor, Col. John Jacob', 'Quick, Miss. Winifred Vera',\n",
       "       'Andrew, Mr. Frank Thomas', 'Omont, Mr. Alfred Fernand',\n",
       "       'McGowan, Miss. Katherine', 'Collett, Mr. Sidney C Stuart',\n",
       "       'Rosenbaum, Miss. Edith Louise', 'Delalic, Mr. Redjo',\n",
       "       'Andersen, Mr. Albert Karvin', 'Finoli, Mr. Luigi',\n",
       "       'Deacon, Mr. Percy William',\n",
       "       'Howard, Mrs. Benjamin (Ellen Truelove Arman)',\n",
       "       'Andersson, Miss. Ida Augusta Margareta', 'Head, Mr. Christopher',\n",
       "       'Mahon, Miss. Bridget Delia', 'Wick, Mr. George Dennick',\n",
       "       'Widener, Mrs. George Dunton (Eleanor Elkins)',\n",
       "       'Thomson, Mr. Alexander Morrison',\n",
       "       'Duran y More, Miss. Florentina', 'Reynolds, Mr. Harold J',\n",
       "       'Cook, Mrs. (Selena Rogers)', 'Karlsson, Mr. Einar Gervasius',\n",
       "       'Candee, Mrs. Edward (Helen Churchill Hungerford)',\n",
       "       'Moubarek, Mrs. George (Omine Amenia\" Alexander)\"',\n",
       "       'Asplund, Mr. Johan Charles', 'McNeill, Miss. Bridget',\n",
       "       'Everett, Mr. Thomas James', 'Hocking, Mr. Samuel James Metcalfe',\n",
       "       'Sweet, Mr. George Frederick', 'Willard, Miss. Constance',\n",
       "       'Wiklund, Mr. Karl Johan', 'Linehan, Mr. Michael',\n",
       "       'Cumings, Mr. John Bradley', 'Vendel, Mr. Olof Edvin',\n",
       "       'Warren, Mr. Frank Manley', 'Baccos, Mr. Raffull',\n",
       "       'Hiltunen, Miss. Marta',\n",
       "       'Douglas, Mrs. Walter Donald (Mahala Dutton)',\n",
       "       'Lindstrom, Mrs. Carl Johan (Sigrid Posse)',\n",
       "       'Christy, Mrs. (Alice Frances)', 'Spedden, Mr. Frederic Oakley',\n",
       "       'Hyman, Mr. Abraham', 'Johnston, Master. William Arthur Willie\"\"',\n",
       "       'Kenyon, Mr. Frederick R', 'Karnes, Mrs. J Frank (Claire Bennett)',\n",
       "       'Drew, Mr. James Vivian',\n",
       "       'Hold, Mrs. Stephen (Annie Margaret Hill)',\n",
       "       'Khalil, Mrs. Betros (Zahie Maria\" Elias)\"',\n",
       "       'West, Miss. Barbara J',\n",
       "       'Abrahamsson, Mr. Abraham August Johannes',\n",
       "       'Clark, Mr. Walter Miller', 'Salander, Mr. Karl Johan',\n",
       "       'Wenzel, Mr. Linhart', 'MacKay, Mr. George William',\n",
       "       'Mahon, Mr. John', 'Niklasson, Mr. Samuel',\n",
       "       'Bentham, Miss. Lilian W', 'Midtsjo, Mr. Karl Albert',\n",
       "       'de Messemaeker, Mr. Guillaume Joseph',\n",
       "       'Nilsson, Mr. August Ferdinand',\n",
       "       'Wells, Mrs. Arthur Henry (Addie\" Dart Trevaskis)\"',\n",
       "       'Klasen, Miss. Gertrud Emilia',\n",
       "       'Portaluppi, Mr. Emilio Ilario Giuseppe', 'Lyntakoff, Mr. Stanko',\n",
       "       'Chisholm, Mr. Roderick Robert Crispin',\n",
       "       'Warren, Mr. Charles William', 'Howard, Miss. May Elizabeth',\n",
       "       'Pokrnic, Mr. Mate', 'McCaffry, Mr. Thomas Francis',\n",
       "       'Fox, Mr. Patrick',\n",
       "       'Clark, Mrs. Walter Miller (Virginia McDowell)',\n",
       "       'Lennon, Miss. Mary', 'Saade, Mr. Jean Nassr',\n",
       "       'Bryhl, Miss. Dagmar Jenny Ingeborg ',\n",
       "       'Parker, Mr. Clifford Richard', 'Faunthorpe, Mr. Harry',\n",
       "       'Ware, Mr. John James', 'Oxenham, Mr. Percy Thomas',\n",
       "       'Oreskovic, Miss. Jelka', 'Peacock, Master. Alfred Edward',\n",
       "       'Fleming, Miss. Honora', 'Touma, Miss. Maria Youssef',\n",
       "       'Rosblom, Miss. Salli Helena', 'Dennis, Mr. William',\n",
       "       'Franklin, Mr. Charles (Charles Fardon)',\n",
       "       'Snyder, Mr. John Pillsbury', 'Mardirosian, Mr. Sarkis',\n",
       "       'Ford, Mr. Arthur', 'Rheims, Mr. George Alexander Lucien',\n",
       "       'Daly, Miss. Margaret Marcella Maggie\"\"', 'Nasr, Mr. Mustafa',\n",
       "       'Dodge, Dr. Washington', 'Wittevrongel, Mr. Camille',\n",
       "       'Angheloff, Mr. Minko', 'Laroche, Miss. Louise',\n",
       "       'Samaan, Mr. Hanna', 'Loring, Mr. Joseph Holland',\n",
       "       'Johansson, Mr. Nils', 'Olsson, Mr. Oscar Wilhelm',\n",
       "       'Malachard, Mr. Noel', 'Phillips, Mr. Escott Robert',\n",
       "       'Pokrnic, Mr. Tome', 'McCarthy, Miss. Catherine Katie\"\"',\n",
       "       'Crosby, Mrs. Edward Gifford (Catherine Elizabeth Halstead)',\n",
       "       'Allison, Mr. Hudson Joshua Creighton',\n",
       "       'Aks, Master. Philip Frank', 'Hays, Mr. Charles Melville',\n",
       "       'Hansen, Mrs. Claus Peter (Jennie L Howard)',\n",
       "       'Cacic, Mr. Jego Grga', 'Vartanian, Mr. David',\n",
       "       'Sadowitz, Mr. Harry', 'Carr, Miss. Jeannie',\n",
       "       'White, Mrs. John Stuart (Ella Holmes)', 'Hagardon, Miss. Kate',\n",
       "       'Spencer, Mr. William Augustus', 'Rogers, Mr. Reginald Harry',\n",
       "       'Jonsson, Mr. Nils Hilding', 'Jefferys, Mr. Ernest Wilfred',\n",
       "       'Andersson, Mr. Johan Samuel', 'Krekorian, Mr. Neshan',\n",
       "       'Nesson, Mr. Israel', 'Rowe, Mr. Alfred G',\n",
       "       'Kreuchen, Miss. Emilie', 'Assam, Mr. Ali',\n",
       "       'Becker, Miss. Ruth Elizabeth',\n",
       "       'Rosenshine, Mr. George (Mr George Thorne\")\"',\n",
       "       'Clarke, Mr. Charles Valentine', 'Enander, Mr. Ingvar',\n",
       "       'Davies, Mrs. John Morgan (Elizabeth Agnes Mary White) ',\n",
       "       'Dulles, Mr. William Crothers', 'Thomas, Mr. Tannous',\n",
       "       'Nakid, Mrs. Said (Waika Mary\" Mowad)\"', 'Cor, Mr. Ivan',\n",
       "       'Maguire, Mr. John Edward', 'de Brito, Mr. Jose Joaquim',\n",
       "       'Elias, Mr. Joseph', 'Denbury, Mr. Herbert',\n",
       "       'Betros, Master. Seman', 'Fillbrook, Mr. Joseph Charles',\n",
       "       'Lundstrom, Mr. Thure Edvin', 'Sage, Mr. John George',\n",
       "       'Cardeza, Mrs. James Warburton Martinez (Charlotte Wardle Drake)',\n",
       "       'van Billiard, Master. James William',\n",
       "       'Abelseth, Miss. Karen Marie', 'Botsford, Mr. William Hull',\n",
       "       'Whabee, Mrs. George Joseph (Shawneene Abi-Saab)',\n",
       "       'Giles, Mr. Ralph', 'Walcroft, Miss. Nellie',\n",
       "       'Greenfield, Mrs. Leo David (Blanche Strouse)',\n",
       "       'Stokes, Mr. Philip Joseph', 'Dibden, Mr. William',\n",
       "       'Herman, Mr. Samuel', 'Dean, Miss. Elizabeth Gladys Millvina\"\"',\n",
       "       'Julian, Mr. Henry Forbes',\n",
       "       'Brown, Mrs. John Murray (Caroline Lane Lamson)',\n",
       "       'Lockyer, Mr. Edward', \"O'Keefe, Mr. Patrick\",\n",
       "       'Lindell, Mrs. Edvard Bengtsson (Elin Gerda Persson)',\n",
       "       'Sage, Master. William Henry',\n",
       "       'Mallet, Mrs. Albert (Antoinette Magnin)',\n",
       "       'Ware, Mrs. John James (Florence Louise Long)',\n",
       "       'Strilic, Mr. Ivan',\n",
       "       'Harder, Mrs. George Achilles (Dorothy Annan)',\n",
       "       'Sage, Mrs. John (Annie Bullen)', 'Caram, Mr. Joseph',\n",
       "       'Riihivouri, Miss. Susanna Juhantytar Sanni\"\"',\n",
       "       'Gibson, Mrs. Leonard (Pauline C Boeson)',\n",
       "       'Pallas y Castello, Mr. Emilio', 'Giles, Mr. Edgar',\n",
       "       'Wilson, Miss. Helen Alice', 'Ismay, Mr. Joseph Bruce',\n",
       "       'Harbeck, Mr. William H', 'Dodge, Mrs. Washington (Ruth Vidaver)',\n",
       "       'Bowen, Miss. Grace Scott', 'Kink, Miss. Maria',\n",
       "       'Cotterill, Mr. Henry Harry\"\"', 'Hipkins, Mr. William Edward',\n",
       "       'Asplund, Master. Carl Edgar', \"O'Connor, Mr. Patrick\",\n",
       "       'Foley, Mr. Joseph', 'Risien, Mrs. Samuel (Emma)',\n",
       "       \"McNamee, Mrs. Neal (Eileen O'Leary)\",\n",
       "       'Wheeler, Mr. Edwin Frederick\"\"', 'Herman, Miss. Kate',\n",
       "       'Aronsson, Mr. Ernst Axel Algot', 'Ashby, Mr. John',\n",
       "       'Canavan, Mr. Patrick', 'Palsson, Master. Paul Folke',\n",
       "       'Payne, Mr. Vivian Ponsonby',\n",
       "       'Lines, Mrs. Ernest H (Elizabeth Lindsey James)',\n",
       "       'Abbott, Master. Eugene Joseph', 'Gilbert, Mr. William',\n",
       "       'Kink-Heilmann, Mr. Anton',\n",
       "       'Smith, Mrs. Lucien Philip (Mary Eloise Hughes)',\n",
       "       'Colbert, Mr. Patrick',\n",
       "       'Frolicher-Stehli, Mrs. Maxmillian (Margaretha Emerentia Stehli)',\n",
       "       'Larsson-Rondberg, Mr. Edvard A', 'Conlon, Mr. Thomas Henry',\n",
       "       'Bonnell, Miss. Caroline', 'Gale, Mr. Harry',\n",
       "       'Gibson, Miss. Dorothy Winifred', 'Carrau, Mr. Jose Pedro',\n",
       "       'Frauenthal, Mr. Isaac Gerald',\n",
       "       'Nourney, Mr. Alfred (Baron von Drachstedt\")\"',\n",
       "       'Ware, Mr. William Jeffery', 'Widener, Mr. George Dunton',\n",
       "       'Riordan, Miss. Johanna Hannah\"\"', 'Peacock, Miss. Treasteall',\n",
       "       'Naughton, Miss. Hannah',\n",
       "       'Minahan, Mrs. William Edward (Lillian E Thorpe)',\n",
       "       'Henriksson, Miss. Jenny Lovisa', 'Spector, Mr. Woolf',\n",
       "       'Oliva y Ocana, Dona. Fermina', 'Saether, Mr. Simon Sivertsen',\n",
       "       'Ware, Mr. Frederick', 'Peter, Master. Michael J'], dtype=object)"
      ]
     },
     "execution_count": 16,
     "metadata": {},
     "output_type": "execute_result"
    }
   ],
   "source": [
    "df['Name'].unique()"
   ]
  },
  {
   "cell_type": "code",
   "execution_count": 17,
   "id": "ed28163f",
   "metadata": {},
   "outputs": [
    {
     "data": {
      "text/plain": [
       "array([3, 2, 1], dtype=int64)"
      ]
     },
     "execution_count": 17,
     "metadata": {},
     "output_type": "execute_result"
    }
   ],
   "source": [
    "df['Pclass'].unique()"
   ]
  },
  {
   "cell_type": "code",
   "execution_count": 18,
   "id": "fca25229",
   "metadata": {},
   "outputs": [
    {
     "data": {
      "text/plain": [
       "array([0, 1], dtype=int64)"
      ]
     },
     "execution_count": 18,
     "metadata": {},
     "output_type": "execute_result"
    }
   ],
   "source": [
    "df['Survived'].unique()"
   ]
  },
  {
   "cell_type": "code",
   "execution_count": 19,
   "metadata": {},
   "outputs": [
    {
     "data": {
      "text/plain": [
       "array([ 892,  893,  894,  895,  896,  897,  898,  899,  900,  901,  902,\n",
       "        903,  904,  905,  906,  907,  908,  909,  910,  911,  912,  913,\n",
       "        914,  915,  916,  917,  918,  919,  920,  921,  922,  923,  924,\n",
       "        925,  926,  927,  928,  929,  930,  931,  932,  933,  934,  935,\n",
       "        936,  937,  938,  939,  940,  941,  942,  943,  944,  945,  946,\n",
       "        947,  948,  949,  950,  951,  952,  953,  954,  955,  956,  957,\n",
       "        958,  959,  960,  961,  962,  963,  964,  965,  966,  967,  968,\n",
       "        969,  970,  971,  972,  973,  974,  975,  976,  977,  978,  979,\n",
       "        980,  981,  982,  983,  984,  985,  986,  987,  988,  989,  990,\n",
       "        991,  992,  993,  994,  995,  996,  997,  998,  999, 1000, 1001,\n",
       "       1002, 1003, 1004, 1005, 1006, 1007, 1008, 1009, 1010, 1011, 1012,\n",
       "       1013, 1014, 1015, 1016, 1017, 1018, 1019, 1020, 1021, 1022, 1023,\n",
       "       1024, 1025, 1026, 1027, 1028, 1029, 1030, 1031, 1032, 1033, 1034,\n",
       "       1035, 1036, 1037, 1038, 1039, 1040, 1041, 1042, 1043, 1044, 1045,\n",
       "       1046, 1047, 1048, 1049, 1050, 1051, 1052, 1053, 1054, 1055, 1056,\n",
       "       1057, 1058, 1059, 1060, 1061, 1062, 1063, 1064, 1065, 1066, 1067,\n",
       "       1068, 1069, 1070, 1071, 1072, 1073, 1074, 1075, 1076, 1077, 1078,\n",
       "       1079, 1080, 1081, 1082, 1083, 1084, 1085, 1086, 1087, 1088, 1089,\n",
       "       1090, 1091, 1092, 1093, 1094, 1095, 1096, 1097, 1098, 1099, 1100,\n",
       "       1101, 1102, 1103, 1104, 1105, 1106, 1107, 1108, 1109, 1110, 1111,\n",
       "       1112, 1113, 1114, 1115, 1116, 1117, 1118, 1119, 1120, 1121, 1122,\n",
       "       1123, 1124, 1125, 1126, 1127, 1128, 1129, 1130, 1131, 1132, 1133,\n",
       "       1134, 1135, 1136, 1137, 1138, 1139, 1140, 1141, 1142, 1143, 1144,\n",
       "       1145, 1146, 1147, 1148, 1149, 1150, 1151, 1152, 1153, 1154, 1155,\n",
       "       1156, 1157, 1158, 1159, 1160, 1161, 1162, 1163, 1164, 1165, 1166,\n",
       "       1167, 1168, 1169, 1170, 1171, 1172, 1173, 1174, 1175, 1176, 1177,\n",
       "       1178, 1179, 1180, 1181, 1182, 1183, 1184, 1185, 1186, 1187, 1188,\n",
       "       1189, 1190, 1191, 1192, 1193, 1194, 1195, 1196, 1197, 1198, 1199,\n",
       "       1200, 1201, 1202, 1203, 1204, 1205, 1206, 1207, 1208, 1209, 1210,\n",
       "       1211, 1212, 1213, 1214, 1215, 1216, 1217, 1218, 1219, 1220, 1221,\n",
       "       1222, 1223, 1224, 1225, 1226, 1227, 1228, 1229, 1230, 1231, 1232,\n",
       "       1233, 1234, 1235, 1236, 1237, 1238, 1239, 1240, 1241, 1242, 1243,\n",
       "       1244, 1245, 1246, 1247, 1248, 1249, 1250, 1251, 1252, 1253, 1254,\n",
       "       1255, 1256, 1257, 1258, 1259, 1260, 1261, 1262, 1263, 1264, 1265,\n",
       "       1266, 1267, 1268, 1269, 1270, 1271, 1272, 1273, 1274, 1275, 1276,\n",
       "       1277, 1278, 1279, 1280, 1281, 1282, 1283, 1284, 1285, 1286, 1287,\n",
       "       1288, 1289, 1290, 1291, 1292, 1293, 1294, 1295, 1296, 1297, 1298,\n",
       "       1299, 1300, 1301, 1302, 1303, 1304, 1305, 1306, 1307, 1308, 1309],\n",
       "      dtype=int64)"
      ]
     },
     "execution_count": 19,
     "metadata": {},
     "output_type": "execute_result"
    }
   ],
   "source": [
    "df['PassengerId'].unique()"
   ]
  },
  {
   "cell_type": "markdown",
   "metadata": {},
   "source": [
    "### 6) Find the columns that has null values in them"
   ]
  },
  {
   "cell_type": "markdown",
   "metadata": {},
   "source": [
    "Hint: You can use isnull() function"
   ]
  },
  {
   "cell_type": "code",
   "execution_count": 20,
   "id": "de6fbad3",
   "metadata": {},
   "outputs": [
    {
     "data": {
      "text/html": [
       "<div>\n",
       "<style scoped>\n",
       "    .dataframe tbody tr th:only-of-type {\n",
       "        vertical-align: middle;\n",
       "    }\n",
       "\n",
       "    .dataframe tbody tr th {\n",
       "        vertical-align: top;\n",
       "    }\n",
       "\n",
       "    .dataframe thead th {\n",
       "        text-align: right;\n",
       "    }\n",
       "</style>\n",
       "<table border=\"1\" class=\"dataframe\">\n",
       "  <thead>\n",
       "    <tr style=\"text-align: right;\">\n",
       "      <th></th>\n",
       "      <th>PassengerId</th>\n",
       "      <th>Survived</th>\n",
       "      <th>Pclass</th>\n",
       "      <th>Name</th>\n",
       "      <th>Sex</th>\n",
       "      <th>Age</th>\n",
       "      <th>SibSp</th>\n",
       "      <th>Parch</th>\n",
       "      <th>Ticket</th>\n",
       "      <th>Fare</th>\n",
       "      <th>Cabin</th>\n",
       "      <th>Embarked</th>\n",
       "    </tr>\n",
       "  </thead>\n",
       "  <tbody>\n",
       "    <tr>\n",
       "      <th>0</th>\n",
       "      <td>False</td>\n",
       "      <td>False</td>\n",
       "      <td>False</td>\n",
       "      <td>False</td>\n",
       "      <td>False</td>\n",
       "      <td>False</td>\n",
       "      <td>False</td>\n",
       "      <td>False</td>\n",
       "      <td>False</td>\n",
       "      <td>False</td>\n",
       "      <td>True</td>\n",
       "      <td>False</td>\n",
       "    </tr>\n",
       "    <tr>\n",
       "      <th>1</th>\n",
       "      <td>False</td>\n",
       "      <td>False</td>\n",
       "      <td>False</td>\n",
       "      <td>False</td>\n",
       "      <td>False</td>\n",
       "      <td>False</td>\n",
       "      <td>False</td>\n",
       "      <td>False</td>\n",
       "      <td>False</td>\n",
       "      <td>False</td>\n",
       "      <td>True</td>\n",
       "      <td>False</td>\n",
       "    </tr>\n",
       "    <tr>\n",
       "      <th>2</th>\n",
       "      <td>False</td>\n",
       "      <td>False</td>\n",
       "      <td>False</td>\n",
       "      <td>False</td>\n",
       "      <td>False</td>\n",
       "      <td>False</td>\n",
       "      <td>False</td>\n",
       "      <td>False</td>\n",
       "      <td>False</td>\n",
       "      <td>False</td>\n",
       "      <td>True</td>\n",
       "      <td>False</td>\n",
       "    </tr>\n",
       "    <tr>\n",
       "      <th>3</th>\n",
       "      <td>False</td>\n",
       "      <td>False</td>\n",
       "      <td>False</td>\n",
       "      <td>False</td>\n",
       "      <td>False</td>\n",
       "      <td>False</td>\n",
       "      <td>False</td>\n",
       "      <td>False</td>\n",
       "      <td>False</td>\n",
       "      <td>False</td>\n",
       "      <td>True</td>\n",
       "      <td>False</td>\n",
       "    </tr>\n",
       "    <tr>\n",
       "      <th>4</th>\n",
       "      <td>False</td>\n",
       "      <td>False</td>\n",
       "      <td>False</td>\n",
       "      <td>False</td>\n",
       "      <td>False</td>\n",
       "      <td>False</td>\n",
       "      <td>False</td>\n",
       "      <td>False</td>\n",
       "      <td>False</td>\n",
       "      <td>False</td>\n",
       "      <td>True</td>\n",
       "      <td>False</td>\n",
       "    </tr>\n",
       "    <tr>\n",
       "      <th>...</th>\n",
       "      <td>...</td>\n",
       "      <td>...</td>\n",
       "      <td>...</td>\n",
       "      <td>...</td>\n",
       "      <td>...</td>\n",
       "      <td>...</td>\n",
       "      <td>...</td>\n",
       "      <td>...</td>\n",
       "      <td>...</td>\n",
       "      <td>...</td>\n",
       "      <td>...</td>\n",
       "      <td>...</td>\n",
       "    </tr>\n",
       "    <tr>\n",
       "      <th>413</th>\n",
       "      <td>False</td>\n",
       "      <td>False</td>\n",
       "      <td>False</td>\n",
       "      <td>False</td>\n",
       "      <td>False</td>\n",
       "      <td>True</td>\n",
       "      <td>False</td>\n",
       "      <td>False</td>\n",
       "      <td>False</td>\n",
       "      <td>False</td>\n",
       "      <td>True</td>\n",
       "      <td>False</td>\n",
       "    </tr>\n",
       "    <tr>\n",
       "      <th>414</th>\n",
       "      <td>False</td>\n",
       "      <td>False</td>\n",
       "      <td>False</td>\n",
       "      <td>False</td>\n",
       "      <td>False</td>\n",
       "      <td>False</td>\n",
       "      <td>False</td>\n",
       "      <td>False</td>\n",
       "      <td>False</td>\n",
       "      <td>False</td>\n",
       "      <td>False</td>\n",
       "      <td>False</td>\n",
       "    </tr>\n",
       "    <tr>\n",
       "      <th>415</th>\n",
       "      <td>False</td>\n",
       "      <td>False</td>\n",
       "      <td>False</td>\n",
       "      <td>False</td>\n",
       "      <td>False</td>\n",
       "      <td>False</td>\n",
       "      <td>False</td>\n",
       "      <td>False</td>\n",
       "      <td>False</td>\n",
       "      <td>False</td>\n",
       "      <td>True</td>\n",
       "      <td>False</td>\n",
       "    </tr>\n",
       "    <tr>\n",
       "      <th>416</th>\n",
       "      <td>False</td>\n",
       "      <td>False</td>\n",
       "      <td>False</td>\n",
       "      <td>False</td>\n",
       "      <td>False</td>\n",
       "      <td>True</td>\n",
       "      <td>False</td>\n",
       "      <td>False</td>\n",
       "      <td>False</td>\n",
       "      <td>False</td>\n",
       "      <td>True</td>\n",
       "      <td>False</td>\n",
       "    </tr>\n",
       "    <tr>\n",
       "      <th>417</th>\n",
       "      <td>False</td>\n",
       "      <td>False</td>\n",
       "      <td>False</td>\n",
       "      <td>False</td>\n",
       "      <td>False</td>\n",
       "      <td>True</td>\n",
       "      <td>False</td>\n",
       "      <td>False</td>\n",
       "      <td>False</td>\n",
       "      <td>False</td>\n",
       "      <td>True</td>\n",
       "      <td>False</td>\n",
       "    </tr>\n",
       "  </tbody>\n",
       "</table>\n",
       "<p>418 rows × 12 columns</p>\n",
       "</div>"
      ],
      "text/plain": [
       "     PassengerId  Survived  Pclass   Name    Sex    Age  SibSp  Parch  Ticket  \\\n",
       "0          False     False   False  False  False  False  False  False   False   \n",
       "1          False     False   False  False  False  False  False  False   False   \n",
       "2          False     False   False  False  False  False  False  False   False   \n",
       "3          False     False   False  False  False  False  False  False   False   \n",
       "4          False     False   False  False  False  False  False  False   False   \n",
       "..           ...       ...     ...    ...    ...    ...    ...    ...     ...   \n",
       "413        False     False   False  False  False   True  False  False   False   \n",
       "414        False     False   False  False  False  False  False  False   False   \n",
       "415        False     False   False  False  False  False  False  False   False   \n",
       "416        False     False   False  False  False   True  False  False   False   \n",
       "417        False     False   False  False  False   True  False  False   False   \n",
       "\n",
       "      Fare  Cabin  Embarked  \n",
       "0    False   True     False  \n",
       "1    False   True     False  \n",
       "2    False   True     False  \n",
       "3    False   True     False  \n",
       "4    False   True     False  \n",
       "..     ...    ...       ...  \n",
       "413  False   True     False  \n",
       "414  False  False     False  \n",
       "415  False   True     False  \n",
       "416  False   True     False  \n",
       "417  False   True     False  \n",
       "\n",
       "[418 rows x 12 columns]"
      ]
     },
     "execution_count": 20,
     "metadata": {},
     "output_type": "execute_result"
    }
   ],
   "source": [
    "df.isnull()"
   ]
  },
  {
   "cell_type": "code",
   "execution_count": 21,
   "metadata": {},
   "outputs": [
    {
     "data": {
      "text/plain": [
       "['Age', 'Fare', 'Cabin']"
      ]
     },
     "execution_count": 21,
     "metadata": {},
     "output_type": "execute_result"
    }
   ],
   "source": [
    "df.columns[df.isna().any()].tolist()\n",
    "#we got  Age,Cabinn,fare"
   ]
  },
  {
   "cell_type": "markdown",
   "metadata": {},
   "source": [
    "### 7) Show various statistics of all the numerical columns\n",
    "\n",
    "Hint: Use describe()"
   ]
  },
  {
   "cell_type": "code",
   "execution_count": 22,
   "metadata": {},
   "outputs": [
    {
     "data": {
      "text/html": [
       "<div>\n",
       "<style scoped>\n",
       "    .dataframe tbody tr th:only-of-type {\n",
       "        vertical-align: middle;\n",
       "    }\n",
       "\n",
       "    .dataframe tbody tr th {\n",
       "        vertical-align: top;\n",
       "    }\n",
       "\n",
       "    .dataframe thead th {\n",
       "        text-align: right;\n",
       "    }\n",
       "</style>\n",
       "<table border=\"1\" class=\"dataframe\">\n",
       "  <thead>\n",
       "    <tr style=\"text-align: right;\">\n",
       "      <th></th>\n",
       "      <th>PassengerId</th>\n",
       "      <th>Survived</th>\n",
       "      <th>Pclass</th>\n",
       "      <th>Age</th>\n",
       "      <th>SibSp</th>\n",
       "      <th>Parch</th>\n",
       "      <th>Fare</th>\n",
       "    </tr>\n",
       "  </thead>\n",
       "  <tbody>\n",
       "    <tr>\n",
       "      <th>count</th>\n",
       "      <td>418.000000</td>\n",
       "      <td>418.000000</td>\n",
       "      <td>418.000000</td>\n",
       "      <td>332.000000</td>\n",
       "      <td>418.000000</td>\n",
       "      <td>418.000000</td>\n",
       "      <td>417.000000</td>\n",
       "    </tr>\n",
       "    <tr>\n",
       "      <th>mean</th>\n",
       "      <td>1100.500000</td>\n",
       "      <td>0.363636</td>\n",
       "      <td>2.265550</td>\n",
       "      <td>30.272590</td>\n",
       "      <td>0.447368</td>\n",
       "      <td>0.392344</td>\n",
       "      <td>35.627188</td>\n",
       "    </tr>\n",
       "    <tr>\n",
       "      <th>std</th>\n",
       "      <td>120.810458</td>\n",
       "      <td>0.481622</td>\n",
       "      <td>0.841838</td>\n",
       "      <td>14.181209</td>\n",
       "      <td>0.896760</td>\n",
       "      <td>0.981429</td>\n",
       "      <td>55.907576</td>\n",
       "    </tr>\n",
       "    <tr>\n",
       "      <th>min</th>\n",
       "      <td>892.000000</td>\n",
       "      <td>0.000000</td>\n",
       "      <td>1.000000</td>\n",
       "      <td>0.170000</td>\n",
       "      <td>0.000000</td>\n",
       "      <td>0.000000</td>\n",
       "      <td>0.000000</td>\n",
       "    </tr>\n",
       "    <tr>\n",
       "      <th>25%</th>\n",
       "      <td>996.250000</td>\n",
       "      <td>0.000000</td>\n",
       "      <td>1.000000</td>\n",
       "      <td>21.000000</td>\n",
       "      <td>0.000000</td>\n",
       "      <td>0.000000</td>\n",
       "      <td>7.895800</td>\n",
       "    </tr>\n",
       "    <tr>\n",
       "      <th>50%</th>\n",
       "      <td>1100.500000</td>\n",
       "      <td>0.000000</td>\n",
       "      <td>3.000000</td>\n",
       "      <td>27.000000</td>\n",
       "      <td>0.000000</td>\n",
       "      <td>0.000000</td>\n",
       "      <td>14.454200</td>\n",
       "    </tr>\n",
       "    <tr>\n",
       "      <th>75%</th>\n",
       "      <td>1204.750000</td>\n",
       "      <td>1.000000</td>\n",
       "      <td>3.000000</td>\n",
       "      <td>39.000000</td>\n",
       "      <td>1.000000</td>\n",
       "      <td>0.000000</td>\n",
       "      <td>31.500000</td>\n",
       "    </tr>\n",
       "    <tr>\n",
       "      <th>max</th>\n",
       "      <td>1309.000000</td>\n",
       "      <td>1.000000</td>\n",
       "      <td>3.000000</td>\n",
       "      <td>76.000000</td>\n",
       "      <td>8.000000</td>\n",
       "      <td>9.000000</td>\n",
       "      <td>512.329200</td>\n",
       "    </tr>\n",
       "  </tbody>\n",
       "</table>\n",
       "</div>"
      ],
      "text/plain": [
       "       PassengerId    Survived      Pclass         Age       SibSp  \\\n",
       "count   418.000000  418.000000  418.000000  332.000000  418.000000   \n",
       "mean   1100.500000    0.363636    2.265550   30.272590    0.447368   \n",
       "std     120.810458    0.481622    0.841838   14.181209    0.896760   \n",
       "min     892.000000    0.000000    1.000000    0.170000    0.000000   \n",
       "25%     996.250000    0.000000    1.000000   21.000000    0.000000   \n",
       "50%    1100.500000    0.000000    3.000000   27.000000    0.000000   \n",
       "75%    1204.750000    1.000000    3.000000   39.000000    1.000000   \n",
       "max    1309.000000    1.000000    3.000000   76.000000    8.000000   \n",
       "\n",
       "            Parch        Fare  \n",
       "count  418.000000  417.000000  \n",
       "mean     0.392344   35.627188  \n",
       "std      0.981429   55.907576  \n",
       "min      0.000000    0.000000  \n",
       "25%      0.000000    7.895800  \n",
       "50%      0.000000   14.454200  \n",
       "75%      0.000000   31.500000  \n",
       "max      9.000000  512.329200  "
      ]
     },
     "execution_count": 22,
     "metadata": {},
     "output_type": "execute_result"
    }
   ],
   "source": [
    "df.describe()"
   ]
  },
  {
   "cell_type": "markdown",
   "metadata": {},
   "source": [
    "### 8) Drop the column that has maximum null values and update the Dataframe"
   ]
  },
  {
   "cell_type": "markdown",
   "id": "cf281a7b",
   "metadata": {},
   "source": [
    "**As we know the name of column containig Null entries so we use them**"
   ]
  },
  {
   "cell_type": "code",
   "execution_count": 23,
   "id": "d9190d08",
   "metadata": {},
   "outputs": [
    {
     "data": {
      "text/plain": [
       "PassengerId      0\n",
       "Survived         0\n",
       "Pclass           0\n",
       "Name             0\n",
       "Sex              0\n",
       "Age             86\n",
       "SibSp            0\n",
       "Parch            0\n",
       "Ticket           0\n",
       "Fare             1\n",
       "Cabin          327\n",
       "Embarked         0\n",
       "dtype: int64"
      ]
     },
     "execution_count": 23,
     "metadata": {},
     "output_type": "execute_result"
    }
   ],
   "source": [
    "df.isnull().sum()\n",
    "#here we can see maximum null values are in Cabin column"
   ]
  },
  {
   "cell_type": "code",
   "execution_count": 24,
   "metadata": {},
   "outputs": [],
   "source": [
    "df = df.drop('Cabin',axis=1)\n"
   ]
  },
  {
   "cell_type": "markdown",
   "metadata": {},
   "source": [
    "### 9) Display the data type of the remaining columns(use updated dataframe)"
   ]
  },
  {
   "cell_type": "code",
   "execution_count": 25,
   "metadata": {},
   "outputs": [
    {
     "data": {
      "text/plain": [
       "PassengerId      int64\n",
       "Survived         int64\n",
       "Pclass           int64\n",
       "Name            object\n",
       "Sex             object\n",
       "Age            float64\n",
       "SibSp            int64\n",
       "Parch            int64\n",
       "Ticket          object\n",
       "Fare           float64\n",
       "Embarked        object\n",
       "dtype: object"
      ]
     },
     "execution_count": 25,
     "metadata": {},
     "output_type": "execute_result"
    }
   ],
   "source": [
    "df.dtypes"
   ]
  },
  {
   "cell_type": "markdown",
   "metadata": {},
   "source": [
    "### 10) Display the sex ratio\n",
    "use value_counts()"
   ]
  },
  {
   "cell_type": "code",
   "execution_count": 26,
   "metadata": {},
   "outputs": [
    {
     "data": {
      "text/plain": [
       "0.6363636363636364"
      ]
     },
     "execution_count": 26,
     "metadata": {},
     "output_type": "execute_result"
    }
   ],
   "source": [
    "nmales =df['Sex'].value_counts()['male']#number of males\n",
    "male_ratio =nmales/418\n",
    "male_ratio\n"
   ]
  },
  {
   "cell_type": "code",
   "execution_count": 27,
   "metadata": {},
   "outputs": [
    {
     "data": {
      "text/plain": [
       "0.36363636363636365"
      ]
     },
     "execution_count": 27,
     "metadata": {},
     "output_type": "execute_result"
    }
   ],
   "source": [
    "females_no=df['Sex'].value_counts()['female']#number of females\n",
    "female_ratio =females_no/418\n",
    "female_ratio"
   ]
  },
  {
   "cell_type": "code",
   "execution_count": 28,
   "metadata": {},
   "outputs": [
    {
     "data": {
      "text/plain": [
       "1.75"
      ]
     },
     "execution_count": 28,
     "metadata": {},
     "output_type": "execute_result"
    }
   ],
   "source": [
    "male_ratio/female_ratio#men to women ratio"
   ]
  },
  {
   "cell_type": "markdown",
   "metadata": {},
   "source": [
    "### 11) Find the number of people that Survived"
   ]
  },
  {
   "cell_type": "code",
   "execution_count": 29,
   "metadata": {},
   "outputs": [
    {
     "data": {
      "text/plain": [
       "152"
      ]
     },
     "execution_count": 29,
     "metadata": {},
     "output_type": "execute_result"
    }
   ],
   "source": [
    "#hence we knew 1 to alive and 0 to dead so we use this\n",
    "df['Survived'].value_counts()[1]"
   ]
  },
  {
   "cell_type": "markdown",
   "metadata": {},
   "source": [
    "### 12) Find the person with maximum and minimum age\n",
    "use .max() and .min() <br>\n",
    "You need to print the row of the dataframe where the person with max and min age is present"
   ]
  },
  {
   "cell_type": "code",
   "execution_count": 30,
   "metadata": {},
   "outputs": [
    {
     "data": {
      "text/html": [
       "<div>\n",
       "<style scoped>\n",
       "    .dataframe tbody tr th:only-of-type {\n",
       "        vertical-align: middle;\n",
       "    }\n",
       "\n",
       "    .dataframe tbody tr th {\n",
       "        vertical-align: top;\n",
       "    }\n",
       "\n",
       "    .dataframe thead th {\n",
       "        text-align: right;\n",
       "    }\n",
       "</style>\n",
       "<table border=\"1\" class=\"dataframe\">\n",
       "  <thead>\n",
       "    <tr style=\"text-align: right;\">\n",
       "      <th></th>\n",
       "      <th>PassengerId</th>\n",
       "      <th>Survived</th>\n",
       "      <th>Pclass</th>\n",
       "      <th>Name</th>\n",
       "      <th>Sex</th>\n",
       "      <th>Age</th>\n",
       "      <th>SibSp</th>\n",
       "      <th>Parch</th>\n",
       "      <th>Ticket</th>\n",
       "      <th>Fare</th>\n",
       "      <th>Embarked</th>\n",
       "    </tr>\n",
       "  </thead>\n",
       "  <tbody>\n",
       "    <tr>\n",
       "      <th>96</th>\n",
       "      <td>988</td>\n",
       "      <td>1</td>\n",
       "      <td>1</td>\n",
       "      <td>Cavendish, Mrs. Tyrell William (Julia Florence...</td>\n",
       "      <td>female</td>\n",
       "      <td>76.0</td>\n",
       "      <td>1</td>\n",
       "      <td>0</td>\n",
       "      <td>19877</td>\n",
       "      <td>78.85</td>\n",
       "      <td>S</td>\n",
       "    </tr>\n",
       "  </tbody>\n",
       "</table>\n",
       "</div>"
      ],
      "text/plain": [
       "    PassengerId  Survived  Pclass  \\\n",
       "96          988         1       1   \n",
       "\n",
       "                                                 Name     Sex   Age  SibSp  \\\n",
       "96  Cavendish, Mrs. Tyrell William (Julia Florence...  female  76.0      1   \n",
       "\n",
       "    Parch Ticket   Fare Embarked  \n",
       "96      0  19877  78.85        S  "
      ]
     },
     "execution_count": 30,
     "metadata": {},
     "output_type": "execute_result"
    }
   ],
   "source": [
    "max = df['Age'].max()\n",
    "\n",
    "df.loc[df['Age'] == max]\n",
    "#oldest\n"
   ]
  },
  {
   "cell_type": "code",
   "execution_count": 31,
   "metadata": {},
   "outputs": [
    {
     "data": {
      "text/html": [
       "<div>\n",
       "<style scoped>\n",
       "    .dataframe tbody tr th:only-of-type {\n",
       "        vertical-align: middle;\n",
       "    }\n",
       "\n",
       "    .dataframe tbody tr th {\n",
       "        vertical-align: top;\n",
       "    }\n",
       "\n",
       "    .dataframe thead th {\n",
       "        text-align: right;\n",
       "    }\n",
       "</style>\n",
       "<table border=\"1\" class=\"dataframe\">\n",
       "  <thead>\n",
       "    <tr style=\"text-align: right;\">\n",
       "      <th></th>\n",
       "      <th>PassengerId</th>\n",
       "      <th>Survived</th>\n",
       "      <th>Pclass</th>\n",
       "      <th>Name</th>\n",
       "      <th>Sex</th>\n",
       "      <th>Age</th>\n",
       "      <th>SibSp</th>\n",
       "      <th>Parch</th>\n",
       "      <th>Ticket</th>\n",
       "      <th>Fare</th>\n",
       "      <th>Embarked</th>\n",
       "    </tr>\n",
       "  </thead>\n",
       "  <tbody>\n",
       "    <tr>\n",
       "      <th>354</th>\n",
       "      <td>1246</td>\n",
       "      <td>1</td>\n",
       "      <td>3</td>\n",
       "      <td>Dean, Miss. Elizabeth Gladys Millvina\"\"</td>\n",
       "      <td>female</td>\n",
       "      <td>0.17</td>\n",
       "      <td>1</td>\n",
       "      <td>2</td>\n",
       "      <td>C.A. 2315</td>\n",
       "      <td>20.575</td>\n",
       "      <td>S</td>\n",
       "    </tr>\n",
       "  </tbody>\n",
       "</table>\n",
       "</div>"
      ],
      "text/plain": [
       "     PassengerId  Survived  Pclass                                     Name  \\\n",
       "354         1246         1       3  Dean, Miss. Elizabeth Gladys Millvina\"\"   \n",
       "\n",
       "        Sex   Age  SibSp  Parch     Ticket    Fare Embarked  \n",
       "354  female  0.17      1      2  C.A. 2315  20.575        S  "
      ]
     },
     "execution_count": 31,
     "metadata": {},
     "output_type": "execute_result"
    }
   ],
   "source": [
    "min = df['Age'].min()\n",
    "df.loc[df['Age'] == min]\n",
    "#younger"
   ]
  },
  {
   "cell_type": "markdown",
   "metadata": {},
   "source": [
    "### 13) Find the number of Class 2 tickets sold"
   ]
  },
  {
   "cell_type": "code",
   "execution_count": 32,
   "metadata": {},
   "outputs": [
    {
     "data": {
      "text/plain": [
       "93"
      ]
     },
     "execution_count": 32,
     "metadata": {},
     "output_type": "execute_result"
    }
   ],
   "source": [
    "df['Pclass'].value_counts()[2]"
   ]
  },
  {
   "cell_type": "markdown",
   "metadata": {},
   "source": [
    "### 14) Find the number of females who survived the crash"
   ]
  },
  {
   "cell_type": "code",
   "execution_count": 33,
   "metadata": {},
   "outputs": [
    {
     "data": {
      "text/plain": [
       "152"
      ]
     },
     "execution_count": 33,
     "metadata": {},
     "output_type": "execute_result"
    }
   ],
   "source": [
    "rs =df[df['Sex'] == 'female'].iloc[0:800]['Survived']\n",
    "rs.sum()\n"
   ]
  },
  {
   "cell_type": "markdown",
   "metadata": {},
   "source": [
    "### 15) Find the number of people who survived the crash and who paid fare less than 200"
   ]
  },
  {
   "cell_type": "code",
   "execution_count": 34,
   "metadata": {},
   "outputs": [
    {
     "data": {
      "text/plain": [
       "140"
      ]
     },
     "execution_count": 34,
     "metadata": {},
     "output_type": "execute_result"
    }
   ],
   "source": [
    "data = df.loc[(df['Survived']==1) & (df['Survived']==1)&(df['Fare']<200)]\n",
    "data.shape[0]"
   ]
  },
  {
   "cell_type": "markdown",
   "metadata": {},
   "source": [
    "### Extra Questions (Will not be considered for evaluation)"
   ]
  },
  {
   "cell_type": "markdown",
   "metadata": {},
   "source": [
    "Try plotting different columns with each other, and see what inferences you can think about the dataset"
   ]
  },
  {
   "cell_type": "code",
   "execution_count": null,
   "metadata": {},
   "outputs": [],
   "source": []
  }
 ],
 "metadata": {
  "interpreter": {
   "hash": "d3e10ef16274dd72e574b8fa73b58450b957d8421a2901baded3cca26fcf5dda"
  },
  "kernelspec": {
   "display_name": "Python 3.10.4 64-bit",
   "language": "python",
   "name": "python3"
  },
  "language_info": {
   "codemirror_mode": {
    "name": "ipython",
    "version": 3
   },
   "file_extension": ".py",
   "mimetype": "text/x-python",
   "name": "python",
   "nbconvert_exporter": "python",
   "pygments_lexer": "ipython3",
   "version": "3.10.4"
  }
 },
 "nbformat": 4,
 "nbformat_minor": 5
}
